{
 "cells": [
  {
   "cell_type": "markdown",
   "id": "d03cab07-55d6-4c44-8a97-b8bd7bb9b188",
   "metadata": {},
   "source": [
    "I create a directory to save all the files I am using in this protocol:\n",
    "\n",
    "```\n",
    "mkdir binder_design_rf\n",
    "cd binder_design_rf\n",
    "```\n",
    "The PDB files are obtained from MOE after doing quickprep energy minimization.\n",
    "I will run this protocol in my local RFdiffusion installation. \n",
    "```\n",
    "conda activate SE3nv2\n",
    "cd RFdiffusion"
   ]
  },
  {
   "cell_type": "markdown",
   "id": "fd14b0a6-f928-475b-822b-202401080d87",
   "metadata": {},
   "source": [
    "Using the PDL1 as the target I first generated unconditional binders by providing only hotspot residues in the target protein. Also specified the size of the binder to be 75-90 aa long."
   ]
  },
  {
   "cell_type": "markdown",
   "id": "2950262d-a5ed-4d62-9682-54e1277cc8c1",
   "metadata": {},
   "source": [
    "I used the following run_inference.py command to get the designs:"
   ]
  },
  {
   "cell_type": "markdown",
   "id": "852884bd-24a2-4e0d-836b-8296ed71a869",
   "metadata": {},
   "source": [
    "```\n",
    "./scripts/run_inference.py \\\n",
    "inference.input_pdb=../pdl1_truncated.pdb \\\n",
    "'contigmap.contigs=[A1-113/0 75-90]' \\\n",
    "inference.output_prefix=../pdl1_binder_unconditional/pdl1_binder_unconditional \\\n",
    "inference.num_designs=10 denoiser.noise_scale_ca=0 denoiser.noise_scale_frame=0"
   ]
  },
  {
   "cell_type": "markdown",
   "id": "3ca55a4f-ce25-40a0-a5b5-5c445fc3678b",
   "metadata": {},
   "source": [
    "The outputs were mostly helical bunches. So I tried using a different approach where I can get a diverse output and also take into account the scaffold of the target protein."
   ]
  },
  {
   "cell_type": "markdown",
   "id": "51f2b87c-172b-41b6-99c1-3a3fe0c3a485",
   "metadata": {},
   "source": [
    "For this I tried using the scaffold guided protocol. \\\n",
    "Here we kind of tell the model to use secondary structure information from the target as well as provide some scaffold templates from a library available with RFDiffusion."
   ]
  },
  {
   "cell_type": "markdown",
   "id": "e5e489e4-3e5a-4f0c-93f7-cff6473f2f8b",
   "metadata": {},
   "source": [
    "First I created the secondary structure template for PDL1 and corresponding pytorch inputs using the following command :\n",
    "```\n",
    " ./helper_scripts/make_secstruc_adj.py --input_pdb ../pdl1_truncated.pdb --out_dir ../adj_secstr_pdl1"
   ]
  },
  {
   "cell_type": "markdown",
   "id": "d5e095e7-2e40-427d-a29b-f38c54ca27fc",
   "metadata": {},
   "source": [
    "Then I ran RFDiffusion to find binders for PDL1 using the scaffold guided protocol:\n",
    "```\n",
    "./scripts/run_inference.py scaffoldguided.target_path=../pdl1_truncated.pdb \\\n",
    "inference.output_prefix=../pdl1_binder/pdl1_ss_pdl1  \\\n",
    "scaffoldguided.scaffoldguided=True \\\n",
    "'ppi.hotspot_res=[A104,A108,A9,A2,A49,A96,A106]'\\\n",
    "scaffoldguided.target_pdb=True  \\\n",
    "scaffoldguided.target_ss=../adj_secstr_pdl1/pdl1_truncated_ss.pt \\\n",
    "scaffoldguided.target_adj=../adj_secstr_pdl1/pdl1_truncated_adj.pt \\ scaffoldguided.scaffold_dir=./ppi_scaffolds/ \\\n",
    "inference.num_designs=10 denoiser.noise_scale_ca=0 denoiser.noise_scale_frame=0"
   ]
  },
  {
   "cell_type": "markdown",
   "id": "d52d2b07-5f3c-4e28-a014-b65ece550700",
   "metadata": {},
   "source": [
    "I also used the make_secstruc_adj.py to generate the PD1 secondary structure and pytorch inputs to see if the binders can be designed with this specific binder as a scaffold. Following is the command I used:"
   ]
  },
  {
   "cell_type": "markdown",
   "id": "605b26c5-f71c-4513-84c5-9effc6340d06",
   "metadata": {},
   "source": [
    "```\n",
    "./helper_scripts/make_secstruc_adj.py --input_pdb ../pd1.pdb --out_dir ../adj_secstr_pd1"
   ]
  },
  {
   "cell_type": "markdown",
   "id": "65acb0b3-523b-4364-8787-42cd0dde0fd3",
   "metadata": {},
   "source": [
    "Since the PDB I have used has a native binder(PD1) attached to PDL1, I also decided to generate some binder structures which are similar to the native binder found in PDB ID 3BIK. \\\n",
    "I ran RFDiffusion to find binders for PDL1 using the following commandline: \\\n",
    "\n",
    "```\n",
    " ./scripts/run_inference.py \\\n",
    "scaffoldguided.target_path=../pdl1_truncated.pdb \\\n",
    "inference.output_prefix=../pdl1_binder_pd1_scaffold/pdl1_ss_pdl1  \\\n",
    "scaffoldguided.scaffoldguided=True \\\n",
    "'ppi.hotspot_res=[A104,A108,A9,A2,A49,A96,A106]' \\\n",
    "scaffoldguided.target_pdb=True \\\n",
    "scaffoldguided.target_ss=../adj_secstr_pdl1/pdl1_truncated_ss.pt \\\n",
    "scaffoldguided.target_adj=../adj_secstr_pdl1/pdl1_truncated_adj.pt \\\n",
    "scaffoldguided.scaffold_dir=../adj_secstr_pd1/ \\\n",
    "inference.num_designs=10 denoiser.noise_scale_ca=0 denoiser.noise_scale_frame=0 "
   ]
  },
  {
   "cell_type": "markdown",
   "id": "2e2ac325-1966-442d-8730-4b5f2e14da8a",
   "metadata": {},
   "source": [
    "To run the scaffold based binder design protocol I had to use a different branch of the RFdiffusion repository:\n",
    "```\n",
    "git checkout 820bfdfaded8c260b962dc40a3171eae316b6ce0"
   ]
  },
  {
   "cell_type": "markdown",
   "id": "5afe54c0-4c14-495c-ac7c-fc7543c345b3",
   "metadata": {},
   "source": [
    "So ultimately I got about 30 different designs from RFdiffusion. But all these structures are in polyglycine sequences. So I used Protein MPNN to generate the sequences.\n"
   ]
  },
  {
   "cell_type": "markdown",
   "id": "a780562d-953e-4b36-aa86-ea9ab06010d1",
   "metadata": {},
   "source": [
    "For running the protocol of generating sequences from the binder structures, I followed the protocol from the following paper: \n",
    "https://www.nature.com/articles/s41467-023-38328-5#Sec8\n"
   ]
  },
  {
   "cell_type": "markdown",
   "id": "be9e404a-d24b-4010-8fd8-1bc2fb1840f5",
   "metadata": {},
   "source": [
    "The github repo for this protocol:\n",
    "```\n",
    "https://github.com/nrbennet/dl_binder_design/tree/main"
   ]
  },
  {
   "cell_type": "markdown",
   "id": "c3f0a94b-41f5-412b-864e-d7da4bc635cd",
   "metadata": {},
   "source": [
    "Used the following command to activate my protein-mpnn conda environment: \n",
    "\n",
    "```\n",
    "conda activate proteinmpnn_binder_design"
   ]
  },
  {
   "cell_type": "markdown",
   "id": "74b7df50-a9ec-40b5-99c4-c16f2492cc0a",
   "metadata": {},
   "source": [
    "First I moved all my pdbs from pdl1_binder, pdl1_binder_pd1_scaffolf, pdl1_binder_unconditional in one folder binder_design_all.\n",
    "```\n",
    "cp pdl1_binder/*.pdb binder_design_all/\n",
    "cp pdl1_binder_pd1_scaffold/*.pdb binder_design_all/\n",
    "cp pdl1_binder_unconditional/*.pdb binder_design_all/\n"
   ]
  },
  {
   "cell_type": "markdown",
   "id": "08755d49-c184-4d9c-bb34-2219ba3fdc6f",
   "metadata": {},
   "source": [
    "Then I ran the following command to convert pdbs to silent files:\n",
    "```\n",
    "silentfrompdbs binder_design_all/*.pdb > pdl1_binder.silent"
   ]
  },
  {
   "cell_type": "markdown",
   "id": "a89d608b-3c81-4807-b510-1a73b03cc809",
   "metadata": {},
   "source": [
    "Next I used the silent file as input for generating sequences using proteinMPNN. Then the backbone undergoes a quick FastRelax process using pyrosetta:\n",
    "```\n",
    "dl_interface_design.py -silent pdl1_binder.silent -outsilent pdl1_binder_proteinmpnn.silent"
   ]
  },
  {
   "cell_type": "markdown",
   "id": "a849d136-5c62-41fe-9f44-fc0ec14c0dc1",
   "metadata": {},
   "source": [
    "Then we used the sequences generated from proteinmpnn protocol to generate the alphafold structures for all 30 different designs.\n",
    "```\n",
    "predict.py -silent pdl1_binder_proteinmpnn.silent -outsilent pdl1_binder_af2.silent"
   ]
  },
  {
   "cell_type": "markdown",
   "id": "bc99be7a-0ead-4a90-9289-002b824f4279",
   "metadata": {},
   "source": [
    "This generates the out.asc file which contains the scoring of the AF2 predicted binder to the ones generated by RFdiffusion.\\\n",
    "In this file we are most interested in the pae_interaction, the lower the value the better prediction of the interaction between PDL1 and binder designs. This interaction is also correlated to the  binder_aligned_rmsd which compares the RFDiffusion structure to the Alphafold predicted structure with C-alpha RMSD."
   ]
  },
  {
   "cell_type": "markdown",
   "id": "cc4d8a77-4239-46e0-8161-9b3701d03df3",
   "metadata": {},
   "source": [
    "I used Rosetta's extract_pdb tool to get pdb from the silent file, pdl1_binder_af2.silent:\n",
    "\n",
    "```\n",
    "extract_pdbs.linuxgccrelease -in:file:silent pdl1_binder_af2.silent -in:file:silent_struct_type binary -out:pdb\n",
    "```\n",
    "The structures are stored in this directory: pdl1_binder_af2_predicted_pdbs"
   ]
  },
  {
   "cell_type": "markdown",
   "id": "2a8c0b29-976d-415c-a8d8-406fd5bfff54",
   "metadata": {},
   "source": [
    "I ran the following bash command to show the top designs with pae_interaction<20 parameter calculated by AF2:\n",
    "\n",
    "```\n",
    "awk 'NR==1 || $4 < 20' out.sc | sort -r -k4,4n"
   ]
  },
  {
   "cell_type": "markdown",
   "id": "20b284a6-6887-4298-b7d9-a50ca3bfe191",
   "metadata": {},
   "source": [
    "Following is the output :\n",
    "SCORE:     binder_aligned_rmsd pae_binder pae_interaction pae_target plddt_binder plddt_target plddt_total target_aligned_rmsd time description \\\n",
    "SCORE:        0.488    2.839    5.164    2.632   92.580   95.089   93.976    1.114  413.295        pdl1_binder_unconditional_1_dldesign_0_cycle1_af2pred \\\n",
    "SCORE:        0.650    4.024    7.129    2.605   87.207   94.595   91.423    1.423  380.267        pdl1_binder_unconditional_0_dldesign_0_cycle1_af2pred \\\n",
    "SCORE:        0.591    2.981    8.080    2.619   90.683   94.470   92.936    1.802  372.959        pdl1_binder_unconditional_3_dldesign_0_cycle1_af2pred \\\n",
    "SCORE:        1.168    7.229   11.719    2.777   68.806   92.115   82.742    2.130  180.076        pdl1_binder_unconditional_9_dldesign_0_cycle1_af2pred \\\n",
    "SCORE:        2.336    7.840   17.523    3.548   73.545   95.137   90.895    5.915  194.437        pdl1_ss_pdl1_3_dldesign_0_cycle1_af2pred \\\n",
    "SCORE:        0.953    3.757   18.068    2.691   87.642   94.948   91.987    2.321  173.476        pdl1_binder_unconditional_8_dldesign_0_cycle1_af2pred "
   ]
  },
  {
   "cell_type": "markdown",
   "id": "44c6872d-6745-4c72-a416-d12d8bd9b68e",
   "metadata": {},
   "source": [
    "I used pymol to look at the structures and we found quite interesting structures as shown in the Word document."
   ]
  },
  {
   "cell_type": "markdown",
   "id": "a07024ee-0332-455d-b222-0a56aa4b0c44",
   "metadata": {},
   "source": [
    "I also wrote some pymol scripts to measure the h-bonds and buried charge in the hydrophobic core of the binder structures obtained from running alpghafold. "
   ]
  },
  {
   "cell_type": "markdown",
   "id": "e81f7c3b-dbbe-496d-bf9a-615d336e049b",
   "metadata": {},
   "source": [
    "They need to be run in Pymol by going to File -> Run Scripts..."
   ]
  },
  {
   "cell_type": "markdown",
   "id": "d70bb768-c8b2-4abc-9d0b-cb36a6a3a069",
   "metadata": {},
   "source": [
    "The script names are : \\\n",
    "buried_charges_corr_pymol.pml with output buried_charges_summary.txt \\\n",
    "hbonds_count_pymol.pml with output \n"
   ]
  },
  {
   "cell_type": "code",
   "execution_count": null,
   "id": "d634fb31-3f42-4ed9-95b6-8ca2e5ee1b9d",
   "metadata": {},
   "outputs": [],
   "source": []
  }
 ],
 "metadata": {
  "kernelspec": {
   "display_name": "Python 3 (ipykernel)",
   "language": "python",
   "name": "python3"
  },
  "language_info": {
   "codemirror_mode": {
    "name": "ipython",
    "version": 3
   },
   "file_extension": ".py",
   "mimetype": "text/x-python",
   "name": "python",
   "nbconvert_exporter": "python",
   "pygments_lexer": "ipython3",
   "version": "3.11.8"
  }
 },
 "nbformat": 4,
 "nbformat_minor": 5
}
